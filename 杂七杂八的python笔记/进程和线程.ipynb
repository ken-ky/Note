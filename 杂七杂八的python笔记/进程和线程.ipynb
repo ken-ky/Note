{
 "cells": [
  {
   "attachments": {},
   "cell_type": "markdown",
   "metadata": {},
   "source": [
    "### 进程和线程学习\n",
    "有时间再补充（**进程池**、**进程锁**）"
   ]
  },
  {
   "cell_type": "code",
   "execution_count": 2,
   "metadata": {},
   "outputs": [
    {
     "name": "stdout",
     "output_type": "stream",
     "text": [
      "开始下载Python进行值.pdf...\n",
      "Python进行值.pdf 下载完成！耗费6秒\n",
      "开始下载东京幻热.avi...\n",
      "东京幻热.avi 下载完成！耗费7秒\n",
      "总共耗时13.02秒\n"
     ]
    }
   ],
   "source": [
    "from random import randint\n",
    "from time import time,sleep\n",
    "\n",
    "def download_task(filename):\n",
    "    print('开始下载%s...' %filename)\n",
    "    time_to_download=randint(5,10)\n",
    "    sleep(time_to_download)\n",
    "    print('%s 下载完成！耗费%d秒' %(filename,time_to_download))\n",
    "\n",
    "def main():\n",
    "    start=time()\n",
    "    download_task('Python进行值.pdf')\n",
    "    download_task('东京幻热.avi')\n",
    "    end=time()\n",
    "    print('总共耗时%.2f秒'%(end-start))\n",
    "\n",
    "\n",
    "main()"
   ]
  },
  {
   "cell_type": "code",
   "execution_count": 25,
   "metadata": {},
   "outputs": [
    {
     "name": "stdout",
     "output_type": "stream",
     "text": [
      "2\n",
      "4\n",
      "why\n"
     ]
    }
   ],
   "source": [
    "# 多进程\n",
    "from multiprocessing import Process\n",
    "\n",
    "def add():\n",
    "    print(2+2)\n",
    "\n",
    "def add2():\n",
    "    print('2')\n",
    "\n",
    "def main():\n",
    "    p1=Process(target=add2(),args=(),)\n",
    "    p1.start()\n",
    "    p2=Process(target=add(),args=(),)\n",
    "    p2.start()\n",
    "    p1.join()\n",
    "    p2.join()\n",
    "    print('why')\n",
    "\n",
    "if __name__=='__main__':\n",
    "    main()"
   ]
  },
  {
   "cell_type": "code",
   "execution_count": 30,
   "metadata": {},
   "outputs": [
    {
     "name": "stdout",
     "output_type": "stream",
     "text": [
      "开始下载Python从入门到住院.pdf...开始下载Peking Hot.avi...\n",
      "\n",
      "Peking Hot.avi下载完成! 耗费了7秒\n",
      "Python从入门到住院.pdf下载完成! 耗费了9秒\n",
      "总共耗费了9.02秒.\n"
     ]
    }
   ],
   "source": [
    "# 多线程\n",
    "from random import randint\n",
    "from threading import Thread\n",
    "from time import time, sleep\n",
    "\n",
    "\n",
    "class DownloadTask(Thread):\n",
    "\n",
    "    def __init__(self, filename):\n",
    "        super().__init__()\n",
    "        self._filename = filename\n",
    "\n",
    "    def run(self):\n",
    "        print('开始下载%s...' % self._filename)\n",
    "        time_to_download = randint(5, 10)\n",
    "        sleep(time_to_download)\n",
    "        print('%s下载完成! 耗费了%d秒' % (self._filename, time_to_download))\n",
    "\n",
    "\n",
    "def main():\n",
    "    start = time()\n",
    "    t1 = DownloadTask('Python从入门到住院.pdf')\n",
    "    t1.start()\n",
    "    t2 = DownloadTask('Peking Hot.avi')\n",
    "    t2.start()\n",
    "    t1.join()\n",
    "    t2.join()\n",
    "    end = time()\n",
    "    print('总共耗费了%.2f秒.' % (end - start))\n",
    "\n",
    "\n",
    "if __name__ == '__main__':\n",
    "    main()"
   ]
  }
 ],
 "metadata": {
  "kernelspec": {
   "display_name": "mydemo",
   "language": "python",
   "name": "mydemo"
  },
  "language_info": {
   "codemirror_mode": {
    "name": "ipython",
    "version": 3
   },
   "file_extension": ".py",
   "mimetype": "text/x-python",
   "name": "python",
   "nbconvert_exporter": "python",
   "pygments_lexer": "ipython3",
   "version": "3.9.13"
  },
  "orig_nbformat": 4
 },
 "nbformat": 4,
 "nbformat_minor": 2
}
