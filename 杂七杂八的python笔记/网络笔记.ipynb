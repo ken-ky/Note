{
 "cells": [
  {
   "attachments": {},
   "cell_type": "markdown",
   "metadata": {},
   "source": [
    "## <center>网络编程笔记</center>\n",
    "---\n",
    "### <center>http协议部分：</center>\n",
    "\n",
    "#### 1. $http$ 的发展：<br>\n",
    "\n",
    "##### $HTTP/0.9$\n",
    "+ 请求：\n",
    "```\n",
    "GET /index.html\n",
    "```\n",
    "TCP连接建立完成，客户端向服务器请求网页：`index.html`\n",
    "规定只使用 **HTML**格式的字符串，不回应其他格式。\n",
    "+ 回应\n",
    "```\n",
    "<html>\n",
    "    <body>Hello World!</body>\n",
    "</html>\n",
    "```\n",
    "<br>\n",
    "\n",
    "##### $HTTP/1.0$\n",
    "+ 请求：\n",
    "```\n",
    "GET / HTTP/1.0\n",
    "User-Agent: Mozilla/5.0 (Macintosh; Intel Mac OS X 10_10_5)\n",
    "Accept: */*\n",
    "```\n",
    "第一行是请求命令，必须在尾部添加协议版本（HTTP/1.0）。后面就是多行头信息，描述客户端的情况。\n",
    "\n",
    "+ 回应：\n",
    "```\n",
    "HTTP/1.0 200 OK\n",
    "Content-Type: text/plain\n",
    "Content-Length: 137582\n",
    "Expires: Thu, 05 Dec 1997 16:00:00 GMT\n",
    "Last-Modified: Wed, 5 August 1996 15:55:28 GMT\n",
    "Server: Apache 0.84\n",
    "\n",
    "<html>\n",
    "    <body>Hello World</body>\n",
    "</html>\n",
    "```\n",
    "回应格式：“头信息”"
   ]
  }
 ],
 "metadata": {
  "language_info": {
   "name": "python"
  },
  "orig_nbformat": 4
 },
 "nbformat": 4,
 "nbformat_minor": 2
}
