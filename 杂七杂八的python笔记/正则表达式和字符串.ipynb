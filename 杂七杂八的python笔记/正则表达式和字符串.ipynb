{
 "cells": [
  {
   "attachments": {},
   "cell_type": "markdown",
   "metadata": {},
   "source": [
    "### 正则表达式学习&记录"
   ]
  },
  {
   "cell_type": "code",
   "execution_count": 3,
   "metadata": {},
   "outputs": [
    {
     "name": "stdout",
     "output_type": "stream",
     "text": [
      "<re.Match object; span=(16, 45), match='tony_guan588@zhijieketang.com'>\n",
      "None\n",
      "<re.Match object; span=(0, 29), match='tony_guan588@zhijieketang.com'>\n"
     ]
    }
   ],
   "source": [
    "# %%python3\n",
    "import re\n",
    "\n",
    "# 开始与结束字符\n",
    "p1 = r'\\w+@zhijieketang\\.com'\n",
    "p2 = r'^\\w+@zhijieketang\\.com$'\n",
    "\n",
    "text = 'Tony\\'s email is tony_guan588@zhijieketang.com'\n",
    "m = re.search(p1, text)\n",
    "print(m)\n",
    "\n",
    "\n",
    "m=re.search(p2,text)\n",
    "print(m)\n",
    "\n",
    "email='tony_guan588@zhijieketang.com'\n",
    "m=re.search(p2,email)\n",
    "print(m)"
   ]
  },
  {
   "cell_type": "code",
   "execution_count": null,
   "metadata": {},
   "outputs": [],
   "source": []
  }
 ],
 "metadata": {
  "kernelspec": {
   "display_name": "mydemo",
   "language": "python",
   "name": "mydemo"
  },
  "language_info": {
   "codemirror_mode": {
    "name": "ipython",
    "version": 3
   },
   "file_extension": ".py",
   "mimetype": "text/x-python",
   "name": "python",
   "nbconvert_exporter": "python",
   "pygments_lexer": "ipython3",
   "version": "3.9.13"
  },
  "orig_nbformat": 4
 },
 "nbformat": 4,
 "nbformat_minor": 2
}
